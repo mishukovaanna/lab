{
  "nbformat": 4,
  "nbformat_minor": 0,
  "metadata": {
    "colab": {
      "provenance": [],
      "authorship_tag": "ABX9TyOuJ/EHm4szh1I4lJ2Ub7d+",
      "include_colab_link": true
    },
    "kernelspec": {
      "name": "python3",
      "display_name": "Python 3"
    },
    "language_info": {
      "name": "python"
    }
  },
  "cells": [
    {
      "cell_type": "markdown",
      "metadata": {
        "id": "view-in-github",
        "colab_type": "text"
      },
      "source": [
        "<a href=\"https://colab.research.google.com/github/mishukovaanna/lab/blob/main/Untitled4.ipynb\" target=\"_parent\"><img src=\"https://colab.research.google.com/assets/colab-badge.svg\" alt=\"Open In Colab\"/></a>"
      ]
    },
    {
      "cell_type": "code",
      "source": [
        "num=input('Введите число')\n",
        "if int(num)>0:\n",
        "  print('положительное число')\n",
        "elif int(num)==0:\n",
        "  print('это 0')\n",
        "else:\n",
        "  print('отрицательное число')\n"
      ],
      "metadata": {
        "colab": {
          "base_uri": "https://localhost:8080/"
        },
        "id": "Sw3pwYxL5Eyu",
        "outputId": "bd1d6023-8a5b-4e83-bd2b-67808a226bf2"
      },
      "execution_count": 3,
      "outputs": [
        {
          "output_type": "stream",
          "name": "stdout",
          "text": [
            "Введите число5\n",
            "положительное число\n"
          ]
        }
      ]
    },
    {
      "cell_type": "markdown",
      "source": [
        "расчет потери напора и давления в горизонтальном трубопроводе, по которому перекачивают воду"
      ],
      "metadata": {
        "id": "NxD24ooO7V33"
      }
    },
    {
      "cell_type": "code",
      "source": [
        "pip install CoolProp"
      ],
      "metadata": {
        "colab": {
          "base_uri": "https://localhost:8080/"
        },
        "id": "6iqJK4Cq7h5X",
        "outputId": "f20cf02e-d37a-4be4-becc-937dc5adf157"
      },
      "execution_count": 4,
      "outputs": [
        {
          "output_type": "stream",
          "name": "stdout",
          "text": [
            "Looking in indexes: https://pypi.org/simple, https://us-python.pkg.dev/colab-wheels/public/simple/\n",
            "Collecting CoolProp\n",
            "  Downloading CoolProp-6.4.3.post1-cp310-cp310-manylinux_2_17_x86_64.manylinux2014_x86_64.whl (6.1 MB)\n",
            "\u001b[2K     \u001b[90m━━━━━━━━━━━━━━━━━━━━━━━━━━━━━━━━━━━━━━━━\u001b[0m \u001b[32m6.1/6.1 MB\u001b[0m \u001b[31m39.7 MB/s\u001b[0m eta \u001b[36m0:00:00\u001b[0m\n",
            "\u001b[?25hInstalling collected packages: CoolProp\n",
            "Successfully installed CoolProp-6.4.3.post1\n"
          ]
        }
      ]
    },
    {
      "cell_type": "code",
      "source": [
        "q=700 #расход т/ч\n",
        "d=300 #диаметр мм\n",
        "L=500 #длина метр\n",
        "delta=2 #мм/м шероховатость\n",
        "Pvx=3*101325 # Паскаль\n",
        "T=353.15 # Кельвин\n",
        "Fluid_name='water' #вода\n",
        "import CoolProp.CoolProp as ct\n",
        "import numpy as np\n",
        "r=ct.PropsSI('D','P',Pvx,'T',T,Fluid_name)\n",
        "print('Плотность равна=',r,'кг/м^3')\n",
        "Q=q/r\n",
        "print('Обьемный расход равен=',Q,'метров кубических в час')\n",
        "F=np.pi*(d/2)**2\n",
        "print('площадь сечения трубы равна=',F,'миллиметров квадратных')\n",
        "V=Q/F*1000\n",
        "print('Скорость расхода=',V,'скорость расхода км в ч')\n",
        "w=ct.PropsSI('viscosity','P',p,'T',T,Fluid_name)*1000\n",
        "print('Вязкость оды равна=',w,'Н*мм/(м/с*м^2)')\n",
        "Re=(d*V)/(w/r)/3.6\n",
        "print(Re)\n",
        "u=10/delta\n",
        "z=560/delta\n",
        "\n",
        "if Re<2300:\n",
        "  k=64/Re\n",
        "  print(\"k=\",k)\n",
        "elif Re<4000:\n",
        "  print(\"_\")\n"
      ],
      "metadata": {
        "id": "VTbh_e4L7tg_"
      },
      "execution_count": null,
      "outputs": []
    }
  ]
}